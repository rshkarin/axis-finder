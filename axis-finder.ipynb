{
 "cells": [
  {
   "cell_type": "code",
   "execution_count": 42,
   "metadata": {
    "ExecuteTime": {
     "end_time": "2016-09-25T19:28:26.422956",
     "start_time": "2016-09-25T19:28:26.417903"
    },
    "collapsed": false
   },
   "outputs": [],
   "source": [
    "import os\n",
    "import sys\n",
    "import argparse\n",
    "import importlib\n",
    "import ast\n",
    "import logging\n",
    "import subprocess\n",
    "import numpy as np\n",
    "from skimage import io"
   ]
  },
  {
   "cell_type": "code",
   "execution_count": 3,
   "metadata": {
    "ExecuteTime": {
     "end_time": "2016-09-25T16:14:02.965238",
     "start_time": "2016-09-25T16:14:02.961284"
    },
    "collapsed": true
   },
   "outputs": [],
   "source": [
    "logger = logging.getLogger('walk-axis-finder')"
   ]
  },
  {
   "cell_type": "code",
   "execution_count": 51,
   "metadata": {
    "ExecuteTime": {
     "end_time": "2016-09-25T19:44:54.396306",
     "start_time": "2016-09-25T19:44:54.387334"
    },
    "collapsed": true
   },
   "outputs": [],
   "source": [
    "def get_sample_paths(search_dir, sample_names, tomo_folder='tomo'):\n",
    "    out = []\n",
    "\n",
    "    for root, dirs, files in os.walk(search_dir):\n",
    "        for sample_name in sample_names:\n",
    "            if tomo_folder in os.path.basename(root) and \\\n",
    "               sample_name in root:\n",
    "                out.append(root)\n",
    "\n",
    "    return out"
   ]
  },
  {
   "cell_type": "code",
   "execution_count": 47,
   "metadata": {
    "ExecuteTime": {
     "end_time": "2016-09-25T19:36:07.923525",
     "start_time": "2016-09-25T19:36:07.896335"
    },
    "collapsed": false
   },
   "outputs": [],
   "source": [
    "def run_tofu(sample_paths, proj_folder='proj360', num_axes=40):\n",
    "    for path in sample_paths:\n",
    "        sample_name = os.path.basename(os.path.split(path)[0])\n",
    "        proj_path = os.path.join(path, proj_folder)\n",
    "        projs = [f for f in os.listdir(proj_path) \\\n",
    "                 if os.path.isfile(os.path.join(proj_path, f))]\n",
    "        \n",
    "        data = io.imread(os.path.join(proj_path, projs[0]))\n",
    "        height, width = data.shape\n",
    "        hc,wc = int(height/2), int(width/2)\n",
    "        \n",
    "        rot_axes = range(wc-num_axes, wc+num_axes+1)\n",
    "        y_pos = hc\n",
    "        reco_height = 1\n",
    "        num_proj = len(projs) - 1\n",
    "        args_fmt = {'projFolder': proj_folder, \\\n",
    "                    'angleRad': 2 * np.pi / float(num_proj), \\\n",
    "                    'yPos': y_pos, \\\n",
    "                    'recoHeight': reco_height, \\\n",
    "                    'projNum': num_proj}\n",
    "            \n",
    "        for rot_axis in rot_axes:\n",
    "            args_fmt['axisPos'] = rot_axis\n",
    "\n",
    "            cmd_template = 'tofu tomo ' \\\n",
    "            '--absorptivity ' \\\n",
    "            '--darks dark/ ' \\\n",
    "            '--flats flat/ ' \\\n",
    "            '--projections {projFolder}/ ' \\\n",
    "            '--angle {angleRad} ' \\\n",
    "            '--axis {axisPos} ' \\\n",
    "            '--method fbp ' \\\n",
    "            '--output slices_axis/slice-{axisPos}-%05i.tif ' \\\n",
    "            '--y {yPos} ' \\\n",
    "            '--height {recoHeight} ' \\\n",
    "            '--number {projNum}'\n",
    "\n",
    "            app = cmd_template.format(**args_fmt)\n",
    "            process = subprocess.Popen(app, shell=True)\n",
    "            streamdata = process.communicate()[0]\n",
    "            rc = process.returncode\n",
    "            \n",
    "            print '{0} [Axis: {1}]'.format(sample_name, rot_axis)"
   ]
  },
  {
   "cell_type": "code",
   "execution_count": null,
   "metadata": {
    "collapsed": true
   },
   "outputs": [],
   "source": [
    "def start_reconstruction(search_dir, sample_names):\n",
    "    sample_paths = get_sample_paths(search_dir, sample_names)\n",
    "    run_tofu(sample_paths)"
   ]
  },
  {
   "cell_type": "code",
   "execution_count": 50,
   "metadata": {
    "ExecuteTime": {
     "end_time": "2016-09-25T19:44:05.132184",
     "start_time": "2016-09-25T19:44:05.108733"
    },
    "collapsed": false
   },
   "outputs": [
    {
     "name": "stderr",
     "output_type": "stream",
     "text": [
      "usage: __main__.py [-h] -i SEARCH_DIR -n SAMPLE_NAMES\n",
      "__main__.py: error: argument -i/--search_dir is required\n"
     ]
    },
    {
     "ename": "SystemExit",
     "evalue": "2",
     "output_type": "error",
     "traceback": [
      "An exception has occurred, use %tb to see the full traceback.\n",
      "\u001b[1;31mSystemExit\u001b[0m\u001b[1;31m:\u001b[0m 2\n"
     ]
    },
    {
     "name": "stderr",
     "output_type": "stream",
     "text": [
      "To exit: use 'exit', 'quit', or Ctrl-D.\n"
     ]
    }
   ],
   "source": [
    "#http://stackoverflow.com/questions/2859674/converting-python-list-of-strings-to-their-type\n",
    "def _tryeval(val):\n",
    "    try:\n",
    "        val = ast.literal_eval(val)\n",
    "    except ValueError:\n",
    "        pass\n",
    "    return val\n",
    "\n",
    "def _list_type(string):\n",
    "    lst = string.replace('[','')\n",
    "    lst = lst.replace(']','')\n",
    "    lst = lst.split(',')\n",
    "    lst = [k.replace(\"'\", \"\").replace('\"', '').replace(\" \", \"\") for k in lst]\n",
    "    lst = [_tryeval(l) for l in lst]\n",
    "    return lst\n",
    "\n",
    "def main():\n",
    "    parser = argparse.ArgumentParser()\n",
    "\n",
    "    parser.add_argument(\"-i\", \"--search_dir\", \\\n",
    "                        help=\"Path to the folder containing the splitted data of samples\", \\\n",
    "                        type=str, \\\n",
    "                        required=True)\n",
    "    parser.add_argument(\"-n\", \"--sample_names\", \\\n",
    "                        help=\"List of sample names to process\", \\\n",
    "                        type=_list_type, \\\n",
    "                        required=True)\n",
    "    args = parser.parse_args()\n",
    "    \n",
    "    start_reconstruction(args.search_dir, args.sample_names)\n",
    "    \n",
    "if __name__ == \"__main__\":\n",
    "    sys.exit(main())"
   ]
  },
  {
   "cell_type": "code",
   "execution_count": null,
   "metadata": {
    "collapsed": true
   },
   "outputs": [],
   "source": []
  },
  {
   "cell_type": "code",
   "execution_count": 28,
   "metadata": {
    "ExecuteTime": {
     "end_time": "2016-09-25T18:23:52.532991",
     "start_time": "2016-09-25T18:14:25.831356"
    },
    "collapsed": false
   },
   "outputs": [],
   "source": [
    "search_dir = '/mnt/LSDF/grif/ANKA_data/2016/HEiKA_Sept2016/Recon/gene_expression'\n",
    "sample_names = ['fish870', 'fish872', 'fish874']\n",
    "tomo_paths = get_sample_paths(search_dir, sample_names)"
   ]
  }
 ],
 "metadata": {
  "kernelspec": {
   "display_name": "Python 2",
   "language": "python",
   "name": "python2"
  },
  "language_info": {
   "codemirror_mode": {
    "name": "ipython",
    "version": 2
   },
   "file_extension": ".py",
   "mimetype": "text/x-python",
   "name": "python",
   "nbconvert_exporter": "python",
   "pygments_lexer": "ipython2",
   "version": "2.7.11"
  }
 },
 "nbformat": 4,
 "nbformat_minor": 0
}
